{
 "cells": [
  {
   "cell_type": "code",
   "execution_count": null,
   "metadata": {},
   "outputs": [],
   "source": [
    "words = open('sgb-words.txt', 'r')"
   ]
  },
  {
   "cell_type": "code",
   "execution_count": 26,
   "metadata": {},
   "outputs": [],
   "source": [
    "def check_status(state: str) -> bool:\n",
    "    \"\"\"\n",
    "    Return True if element is correct; false otherwise.\n",
    "    \"\"\"\n",
    "    \n",
    "    return state == \"correct\"\n",
    "\n",
    "\n",
    "def click_letter(letter: str) -> None:\n",
    "    \"\"\"\n",
    "    Clicks the desired letter\n",
    "    \"\"\"\n",
    "    \n",
    "    key = \"//button[@data-key='{}']\".format(letter)\n",
    "    selected = driver.find_element(By.XPATH, key)\n",
    "    selected.click()\n",
    "\n",
    "\n",
    "def click_enter() -> None:\n",
    "    \"\"\"\n",
    "    Clicks the enter button\n",
    "    \"\"\"\n",
    "    enter = driver.find_element(By.XPATH, \"//button[@data-key='↵']\")\n",
    "    enter.click()\n",
    "\n",
    "\n",
    "def check_letter(letter: str, absent_list: list[str], correct_list: list[str]):\n",
    "    \n",
    "    key = \"//button[@data-key='{}']\".format(letter)\n",
    "    selected = driver.find_element(By.XPATH, key)\n",
    "    \n",
    "    # something here not working\n",
    "    # getting 'None' for state\n",
    "    state = selected.get_attribute('data-state')\n",
    "    status = check_status(state)\n",
    "    \n",
    "    print(state)\n",
    "    print(status)\n",
    "    \n",
    "    if status and letter not in correct_list:\n",
    "        correct_list.append(letter)\n",
    "    elif not status and letter not in absent_list:\n",
    "        absent_list.append(letter)\n",
    "\n",
    "\n",
    "def input_word(word: str, absent_list, correct_list) -> None:\n",
    "    \"\"\"\n",
    "    Inputs a word\n",
    "    \n",
    "    Precondition: len(word) == 5\n",
    "    \"\"\"\n",
    "    absent_list = []\n",
    "    correct_list = []\n",
    "    \n",
    "    for c in word:\n",
    "        click_letter(c)\n",
    "    \n",
    "    click_enter()\n",
    "    \n",
    "    # i do not know if this works\n",
    "    driver.implicitly_wait(2)\n",
    "    \n",
    "    for c in word:\n",
    "        check_letter(c, absent_list, correct_list)"
   ]
  },
  {
   "cell_type": "code",
   "execution_count": 27,
   "metadata": {},
   "outputs": [
    {
     "name": "stdout",
     "output_type": "stream",
     "text": [
      "None\n",
      "False\n",
      "None\n",
      "False\n",
      "None\n",
      "False\n",
      "None\n",
      "False\n",
      "None\n",
      "False\n",
      "[] []\n"
     ]
    }
   ],
   "source": [
    "from selenium import webdriver\n",
    "from selenium.webdriver.common.by import By\n",
    "\n",
    "driver = webdriver.Chrome()\n",
    "driver.get(\"https://www.nytimes.com/games/wordle/index.html\")\n",
    "\n",
    "# close the 'How to play' prompt\n",
    "close_button = driver.find_element(By.TAG_NAME, \"button\")\n",
    "close_button.click()\n",
    "\n",
    "absent = []\n",
    "correct = []\n",
    "\n",
    "input_word('crane', absent, correct)"
   ]
  }
 ],
 "metadata": {
  "kernelspec": {
   "display_name": ".venv",
   "language": "python",
   "name": "python3"
  },
  "language_info": {
   "codemirror_mode": {
    "name": "ipython",
    "version": 3
   },
   "file_extension": ".py",
   "mimetype": "text/x-python",
   "name": "python",
   "nbconvert_exporter": "python",
   "pygments_lexer": "ipython3",
   "version": "3.11.1"
  },
  "orig_nbformat": 4
 },
 "nbformat": 4,
 "nbformat_minor": 2
}
