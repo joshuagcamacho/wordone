{
 "cells": [
  {
   "cell_type": "code",
   "execution_count": null,
   "metadata": {},
   "outputs": [],
   "source": [
    "words = open('sgb-words.txt', 'r')"
   ]
  },
  {
   "cell_type": "code",
   "execution_count": 24,
   "metadata": {},
   "outputs": [],
   "source": [
    "def click_letter(letter: str) -> None:\n",
    "    \"\"\"\n",
    "    Clicks the desired letter\n",
    "    \"\"\"\n",
    "    key = \"//button[@data-key='{}']\".format(letter)\n",
    "    \n",
    "    selected = driver.find_element(By.XPATH, key)\n",
    "    selected.click()"
   ]
  },
  {
   "cell_type": "code",
   "execution_count": 25,
   "metadata": {},
   "outputs": [],
   "source": [
    "from selenium import webdriver\n",
    "from selenium.webdriver.common.by import By\n",
    "\n",
    "driver = webdriver.Chrome()\n",
    "driver.get(\"https://www.nytimes.com/games/wordle/index.html\")\n",
    "\n",
    "# close the 'How to play' prompt\n",
    "close_button = driver.find_element(By.TAG_NAME, \"button\")\n",
    "close_button.click()\n",
    "\n",
    "click_letter('a')"
   ]
  }
 ],
 "metadata": {
  "kernelspec": {
   "display_name": ".venv",
   "language": "python",
   "name": "python3"
  },
  "language_info": {
   "codemirror_mode": {
    "name": "ipython",
    "version": 3
   },
   "file_extension": ".py",
   "mimetype": "text/x-python",
   "name": "python",
   "nbconvert_exporter": "python",
   "pygments_lexer": "ipython3",
   "version": "3.11.1"
  },
  "orig_nbformat": 4
 },
 "nbformat": 4,
 "nbformat_minor": 2
}
